{
 "cells": [
  {
   "cell_type": "code",
   "execution_count": 17,
   "metadata": {},
   "outputs": [
    {
     "name": "stdout",
     "output_type": "stream",
     "text": [
      "   Apple  Beer  Rice  Chicken\n",
      "0  Apple  Beer  Rice      NaN\n",
      "1  Apple  Beer   NaN      NaN\n",
      "2  Apple  Pear   NaN      NaN\n",
      "3   Milk  Beer  Rice  Chicken\n",
      "4   Milk  Beer  Rice      NaN\n"
     ]
    }
   ],
   "source": [
    "import pandas as pd\n",
    "import matplotlib.pyplot as mtp\n",
    "import numpy as np\n",
    "from apyori import apriori \n",
    "import seaborn as sns\n",
    "from string import printable\n",
    "# import tabulate as tb\n",
    "\n",
    "file_path = 'data\\\\datasets.csv'\n",
    "data = pd.read_csv(file_path)\n",
    "\n",
    "# Display the first few rows of the dataset to understand its structure\n",
    "print(data.head())"
   ]
  },
  {
   "cell_type": "code",
   "execution_count": 3,
   "metadata": {},
   "outputs": [],
   "source": [
    "# Assuming your data frame has columns representing items and rows representing transactions\n",
    "item_columns = data.columns.tolist()\n",
    "transaction_list = []"
   ]
  },
  {
   "cell_type": "code",
   "execution_count": 4,
   "metadata": {},
   "outputs": [
    {
     "name": "stdout",
     "output_type": "stream",
     "text": [
      "[[], [], [], [], []]\n"
     ]
    }
   ],
   "source": [
    "for index, row in data.iterrows():\n",
    "    transaction = [item for item in item_columns if row[item] == 1]\n",
    "    transaction_list.append(transaction)\n",
    "print(transaction_list[:5])  # Display the first few transactions to verify the format"
   ]
  },
  {
   "cell_type": "code",
   "execution_count": 5,
   "metadata": {},
   "outputs": [
    {
     "name": "stdout",
     "output_type": "stream",
     "text": [
      "Frequent Itemsets:\n",
      "{}\n",
      "\n",
      "Association Rules:\n",
      "[]\n"
     ]
    }
   ],
   "source": [
    "freqItemSet, rules = apriori(transaction_list, minSup=0.5, minConf=0.5)\n",
    "print(\"Frequent Itemsets:\")\n",
    "print(freqItemSet)\n",
    "print(\"\\nAssociation Rules:\")\n",
    "print(rules)"
   ]
  },
  {
   "cell_type": "code",
   "execution_count": 14,
   "metadata": {},
   "outputs": [
    {
     "name": "stdout",
     "output_type": "stream",
     "text": [
      "\n",
      "\n",
      "   Apple  Beer  Rice  Chicken\n",
      "0  Apple  Beer  Rice      NaN\n",
      "1  Apple  Beer   NaN      NaN\n",
      "2  Apple  Pear   NaN      NaN\n",
      "3   Milk  Beer  Rice  Chicken\n",
      "4   Milk  Beer  Rice      NaN\n",
      "5   Milk  Beer   NaN      NaN\n",
      "6   Milk  Pear   NaN      NaN\n",
      "\n",
      "Number of records in dataframe 8\n",
      "Converted to Dataframe\n",
      "    Apple   Beer  Chicken   Milk   Pear   Rice\n",
      "0   True   True     True  False  False   True\n",
      "1   True   True    False  False  False   True\n",
      "2   True   True    False  False  False  False\n",
      "3   True  False    False  False   True  False\n",
      "4  False   True     True   True  False   True\n",
      "5  False   True    False   True  False   True\n",
      "6  False   True    False   True  False  False\n",
      "7  False  False    False   True   True  False\n"
     ]
    }
   ],
   "source": [
    "from string import printable\n",
    "import numpy as np\n",
    "import matplotlib.pyplot as plt\n",
    "import pandas as pd\n",
    "from apyori import apriori\n",
    "# import tabulate as tb\n",
    "from mlxtend.frequent_patterns import association_rules\n",
    "from mlxtend.preprocessing import TransactionEncoder\n",
    "from mlxtend.frequent_patterns import apriori, fpgrowth, fpmax\n",
    "\n",
    "data_sets = pd.read_csv(\"data\\\\datasets.csv\")\n",
    "print(\"\\n\")\n",
    "print(data_sets)\n",
    "\n",
    "waw = [[\"Apple\", \"Beer\", \"Rice\", \"Chicken\"],\n",
    "       [\"Apple\", \"Beer\", \"Rice\"],\n",
    "       [\"Apple\", \"Beer\"],\n",
    "       [\"Apple\", \"Pear\"],\n",
    "       [\"Milk\", \"Beer\", \"Rice\", \"Chicken\"],\n",
    "       [\"Milk\", \"Beer\", \"Rice\"],\n",
    "       [\"Milk\", \"Beer\"],\n",
    "       [\"Milk\", \"Pear\"]]\n",
    "\n",
    "te = TransactionEncoder()\n",
    "item = te.fit(waw).transform(waw)\n",
    "# TransactionEncoder object, we can transform this dataset into an array format suitable for typical machine learning APIs.\n",
    "# Via the fit method, the TransactionEncoder learns the unique labels in the dataset, and via the transform method,\n",
    "# it transforms the input dataset (a Python list of lists) into a one-hot encoded NumPy boolean array:\n",
    "df = pd.DataFrame(item, columns=te.columns_)\n",
    "num_records = len(df)\n",
    "print(\"\\nNumber of records in dataframe\", num_records)\n",
    "print(\"Converted to Dataframe\\n\", df)\n"
   ]
  },
  {
   "cell_type": "code",
   "execution_count": 15,
   "metadata": {},
   "outputs": [
    {
     "name": "stdout",
     "output_type": "stream",
     "text": [
      "\n",
      "Frequent Itemsets:\n",
      "    support      itemsets\n",
      "0     0.50       (Apple)\n",
      "1     0.75        (Beer)\n",
      "2     0.50        (Milk)\n",
      "3     0.50        (Rice)\n",
      "4     0.50  (Beer, Rice)\n",
      "\n",
      "Association Rules:\n",
      "   antecedents consequents  antecedent support  consequent support  support  \\\n",
      "0      (Beer)      (Rice)                0.75                0.50      0.5   \n",
      "1      (Rice)      (Beer)                0.50                0.75      0.5   \n",
      "\n",
      "   confidence      lift  leverage  conviction  zhangs_metric  \n",
      "0    0.666667  1.333333     0.125         1.5            1.0  \n",
      "1    1.000000  1.333333     0.125         inf            0.5  \n"
     ]
    }
   ],
   "source": [
    "# Apply the Apriori algorithm\n",
    "min_support = 0.5  # Minimum support threshold\n",
    "frequent_itemsets = apriori(df, min_support=min_support, use_colnames=True)\n",
    "\n",
    "print(\"\\nFrequent Itemsets:\\n\", frequent_itemsets)\n",
    "\n",
    "# Generate association rules\n",
    "min_confidence = 0.5  # Minimum confidence threshold\n",
    "rules = association_rules(frequent_itemsets, metric=\"confidence\", min_threshold=min_confidence)\n",
    "\n",
    "print(\"\\nAssociation Rules:\\n\", rules)"
   ]
  },
  {
   "cell_type": "code",
   "execution_count": 20,
   "metadata": {},
   "outputs": [
    {
     "name": "stdout",
     "output_type": "stream",
     "text": [
      "\n",
      "\n",
      "   Apple  Beer  Rice  Chicken\n",
      "0  Apple  Beer  Rice      NaN\n",
      "1  Apple  Beer   NaN      NaN\n",
      "2  Apple  Pear   NaN      NaN\n",
      "3   Milk  Beer  Rice  Chicken\n",
      "4   Milk  Beer  Rice      NaN\n",
      "5   Milk  Beer   NaN      NaN\n",
      "6   Milk  Pear   NaN      NaN\n",
      "\n",
      " number of records in dataframe 8\n",
      "Converted to Dataframe \n",
      "    Apple   Beer  Chicken   Milk   Pear   Rice\n",
      "0   True   True     True  False  False   True\n",
      "1   True   True    False  False  False   True\n",
      "2   True   True    False  False  False  False\n",
      "3   True  False    False  False   True  False\n",
      "4  False   True     True   True  False   True\n",
      "5  False   True    False   True  False   True\n",
      "6  False   True    False   True  False  False\n",
      "7  False  False    False   True   True  False\n",
      "\n",
      "     support               itemsets\n",
      "0     0.500                (Apple)\n",
      "1     0.750                 (Beer)\n",
      "2     0.250              (Chicken)\n",
      "3     0.500                 (Milk)\n",
      "4     0.250                 (Pear)\n",
      "5     0.500                 (Rice)\n",
      "6     0.375          (Apple, Beer)\n",
      "7     0.250          (Apple, Rice)\n",
      "8     0.250        (Chicken, Beer)\n",
      "9     0.375           (Beer, Milk)\n",
      "10    0.500           (Beer, Rice)\n",
      "11    0.250        (Chicken, Rice)\n",
      "12    0.250           (Milk, Rice)\n",
      "13    0.250    (Apple, Beer, Rice)\n",
      "14    0.250  (Chicken, Beer, Rice)\n",
      "15    0.250     (Rice, Beer, Milk)\n",
      "\n",
      "         antecedents      consequents  antecedent support  consequent support  support  confidence      lift  leverage  conviction  zhangs_metric\n",
      "0           (Apple)           (Beer)               0.500               0.750    0.375    0.750000  1.000000    0.0000        1.00       0.000000\n",
      "1            (Beer)          (Apple)               0.750               0.500    0.375    0.500000  1.000000    0.0000        1.00       0.000000\n",
      "2           (Apple)           (Rice)               0.500               0.500    0.250    0.500000  1.000000    0.0000        1.00       0.000000\n",
      "3            (Rice)          (Apple)               0.500               0.500    0.250    0.500000  1.000000    0.0000        1.00       0.000000\n",
      "4         (Chicken)           (Beer)               0.250               0.750    0.250    1.000000  1.333333    0.0625         inf       0.333333\n",
      "5            (Beer)           (Milk)               0.750               0.500    0.375    0.500000  1.000000    0.0000        1.00       0.000000\n",
      "6            (Milk)           (Beer)               0.500               0.750    0.375    0.750000  1.000000    0.0000        1.00       0.000000\n",
      "7            (Beer)           (Rice)               0.750               0.500    0.500    0.666667  1.333333    0.1250        1.50       1.000000\n",
      "8            (Rice)           (Beer)               0.500               0.750    0.500    1.000000  1.333333    0.1250         inf       0.500000\n",
      "9         (Chicken)           (Rice)               0.250               0.500    0.250    1.000000  2.000000    0.1250         inf       0.666667\n",
      "10           (Rice)        (Chicken)               0.500               0.250    0.250    0.500000  2.000000    0.1250        1.50       1.000000\n",
      "11           (Milk)           (Rice)               0.500               0.500    0.250    0.500000  1.000000    0.0000        1.00       0.000000\n",
      "12           (Rice)           (Milk)               0.500               0.500    0.250    0.500000  1.000000    0.0000        1.00       0.000000\n",
      "13    (Apple, Beer)           (Rice)               0.375               0.500    0.250    0.666667  1.333333    0.0625        1.50       0.400000\n",
      "14    (Apple, Rice)           (Beer)               0.250               0.750    0.250    1.000000  1.333333    0.0625         inf       0.333333\n",
      "15     (Beer, Rice)          (Apple)               0.500               0.500    0.250    0.500000  1.000000    0.0000        1.00       0.000000\n",
      "16          (Apple)     (Beer, Rice)               0.500               0.500    0.250    0.500000  1.000000    0.0000        1.00       0.000000\n",
      "17           (Rice)    (Apple, Beer)               0.500               0.375    0.250    0.500000  1.333333    0.0625        1.25       0.500000\n",
      "18  (Chicken, Beer)           (Rice)               0.250               0.500    0.250    1.000000  2.000000    0.1250         inf       0.666667\n",
      "19  (Chicken, Rice)           (Beer)               0.250               0.750    0.250    1.000000  1.333333    0.0625         inf       0.333333\n",
      "20     (Beer, Rice)        (Chicken)               0.500               0.250    0.250    0.500000  2.000000    0.1250        1.50       1.000000\n",
      "21        (Chicken)     (Beer, Rice)               0.250               0.500    0.250    1.000000  2.000000    0.1250         inf       0.666667\n",
      "22           (Rice)  (Chicken, Beer)               0.500               0.250    0.250    0.500000  2.000000    0.1250        1.50       1.000000\n",
      "23     (Beer, Rice)           (Milk)               0.500               0.500    0.250    0.500000  1.000000    0.0000        1.00       0.000000\n",
      "24     (Milk, Rice)           (Beer)               0.250               0.750    0.250    1.000000  1.333333    0.0625         inf       0.333333\n",
      "25     (Beer, Milk)           (Rice)               0.375               0.500    0.250    0.666667  1.333333    0.0625        1.50       0.400000\n",
      "26           (Rice)     (Beer, Milk)               0.500               0.375    0.250    0.500000  1.333333    0.0625        1.25       0.500000\n",
      "27           (Milk)     (Beer, Rice)               0.500               0.500    0.250    0.500000  1.000000    0.0000        1.00       0.000000\n"
     ]
    }
   ],
   "source": [
    "#from asyncio.windows_events import null\n",
    "import csv\n",
    "from string import printable\n",
    "import numpy as np\n",
    "import matplotlib.pyplot as plt\n",
    "import pandas as pd\n",
    "from apyori import apriori\n",
    "#import tabulate as tb\n",
    "from mlxtend.frequent_patterns import association_rules\n",
    "from mlxtend.preprocessing import TransactionEncoder\n",
    "from mlxtend.frequent_patterns import apriori, fpmax, fpgrowth\n",
    "data_sets = pd.read_csv(\"data./datasets.csv\")\n",
    "print(\"\\n\")\n",
    "print(data_sets)\n",
    "\n",
    "waw = [[\"Apple\", \"Beer\", \"Rice\", \"Chicken\"],\n",
    "       [\"Apple\", \"Beer\", \"Rice\"],\n",
    "        [\"Apple\",\"Beer\"],\n",
    "        [\"Apple\", \"Pear\"],\n",
    "        [\"Milk\",\"Beer\", \"Rice\", \"Chicken\"],\n",
    "        [\"Milk\",\"Beer\", \"Rice\"],\n",
    "        [\"Milk\",\"Beer\"],\n",
    "        [\"Milk\",\"Pear\"]]\n",
    "\n",
    "te = TransactionEncoder()\n",
    "item = te.fit(waw).transform(waw)\n",
    "#TransactionEncoder object, we can transform this dataset into an array format suitable for typical machine learning APIs.\n",
    "#Via the fit method, the TransactionEncoder learns the unique labels in the dataset, and via the transform method,\n",
    "#it transforms the input dataset (a Python list of lists) into a one-hot encoded NumPy boolean array:\n",
    "df = pd.DataFrame(item,columns = te.columns_)\n",
    "num_records = len(df)\n",
    "print(\"\\n number of records in dataframe\",num_records)\n",
    "print(\"Converted to Dataframe \\n\",df)\n",
    "\n",
    "\n",
    "\n",
    "frequent_itemsets= apriori(df,min_support = .2, use_colnames = True,max_len = 4)\n",
    "print(\"\\n\",frequent_itemsets)\n",
    "association_rules = association_rules(frequent_itemsets, metric = \"confidence\", min_threshold =.50)  \n",
    "print(\"\\n\",association_rules.to_string())\n",
    "#The generate_rules takes dataframes of frequent itemsets as produced by the apriori,\n",
    "#fpgrowth, or fpmax functions in mlxtend.association. To demonstrate the usage of the generate_rules method,\n",
    "#we first create a pandas DataFrame of frequent itemsets as generated by the fpgrowth function:\n",
    "\n",
    "       \n"
   ]
  },
  {
   "cell_type": "code",
   "execution_count": 18,
   "metadata": {},
   "outputs": [
    {
     "data": {
      "image/png": "[encoded data removed]",
      "text/plain": [
       "<Figure size 1000x600 with 1 Axes>"
      ]
     },
     "metadata": {},
     "output_type": "display_data"
    },
    {
     "name": "stderr",
     "output_type": "stream",
     "text": [
      "e:\\Anaconda\\Lib\\site-packages\\seaborn\\_oldcore.py:1498: DeprecationWarning: is_categorical_dtype is deprecated and will be removed in a future version. Use isinstance(dtype, pd.CategoricalDtype) instead\n",
      "  if pd.api.types.is_categorical_dtype(vector):\n",
      "e:\\Anaconda\\Lib\\site-packages\\seaborn\\_oldcore.py:1498: DeprecationWarning: is_categorical_dtype is deprecated and will be removed in a future version. Use isinstance(dtype, pd.CategoricalDtype) instead\n",
      "  if pd.api.types.is_categorical_dtype(vector):\n",
      "e:\\Anaconda\\Lib\\site-packages\\seaborn\\_oldcore.py:1498: DeprecationWarning: is_categorical_dtype is deprecated and will be removed in a future version. Use isinstance(dtype, pd.CategoricalDtype) instead\n",
      "  if pd.api.types.is_categorical_dtype(vector):\n",
      "e:\\Anaconda\\Lib\\site-packages\\seaborn\\_oldcore.py:1498: DeprecationWarning: is_categorical_dtype is deprecated and will be removed in a future version. Use isinstance(dtype, pd.CategoricalDtype) instead\n",
      "  if pd.api.types.is_categorical_dtype(vector):\n"
     ]
    },
    {
     "data": {
      "image/png": "[encoded data removed]",
      "text/plain": [
       "<Figure size 1000x600 with 1 Axes>"
      ]
     },
     "metadata": {},
     "output_type": "display_data"
    },
    {
     "data": {
      "image/png": "[encoded data removed]",
      "text/plain": [
       "<Figure size 640x480 with 1 Axes>"
      ]
     },
     "metadata": {},
     "output_type": "display_data"
    }
   ],
   "source": [
    "# Visualization of Frequent Itemsets\n",
    "plt.figure(figsize=(10, 6))\n",
    "plt.bar(x=range(len(frequent_itemsets)), height=frequent_itemsets['support'], tick_label=[str(list(x)) for x in frequent_itemsets['itemsets']])\n",
    "plt.xticks(rotation=90)\n",
    "plt.xlabel('Itemsets')\n",
    "plt.ylabel('Support')\n",
    "plt.title('Frequent Itemsets')\n",
    "plt.show()\n",
    "\n",
    "# Visualization of Association Rules\n",
    "plt.figure(figsize=(10, 6))\n",
    "sns.scatterplot(x='support', y='confidence', size='lift', hue='lift', data=rules, palette='viridis', legend=False, sizes=(20, 200))\n",
    "plt.xlabel('Support')\n",
    "plt.ylabel('Confidence')\n",
    "plt.title('Association Rules')\n",
    "plt.show()\n",
    "\n",
    "# Optionally, for better visualization, you can label the scatter plot points with antecedents and consequents\n",
    "for i in range(rules.shape[0]):\n",
    "    plt.text(rules.support[i], rules.confidence[i], f'{list(rules.antecedents[i])} -> {list(rules.consequents[i])}', fontsize=9)\n",
    "\n",
    "plt.show()"
   ]
  }
 ],
 "metadata": {
  "kernelspec": {
   "display_name": "base",
   "language": "python",
   "name": "python3"
  },
  "language_info": {
   "codemirror_mode": {
    "name": "ipython",
    "version": 3
   },
   "file_extension": ".py",
   "mimetype": "text/x-python",
   "name": "python",
   "nbconvert_exporter": "python",
   "pygments_lexer": "ipython3",
   "version": "3.11.7"
  }
 },
 "nbformat": 4,
 "nbformat_minor": 2
}
